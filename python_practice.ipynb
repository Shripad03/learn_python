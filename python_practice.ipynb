{
 "cells": [
  {
   "cell_type": "code",
   "execution_count": 1,
   "id": "465abb25-4798-4d63-9280-9a62b555dadc",
   "metadata": {},
   "outputs": [
    {
     "name": "stdout",
     "output_type": "stream",
     "text": [
      "hello world\n"
     ]
    }
   ],
   "source": [
    "print('hello world');"
   ]
  },
  {
   "cell_type": "code",
   "execution_count": 2,
   "id": "75b2fcd3-2961-4407-901d-8fd10c1a9242",
   "metadata": {},
   "outputs": [
    {
     "name": "stdout",
     "output_type": "stream",
     "text": [
      "100\n"
     ]
    }
   ],
   "source": [
    "guess = 100\n",
    "print(guess);"
   ]
  },
  {
   "cell_type": "code",
   "execution_count": null,
   "id": "6b73c3a5-478c-4f6e-b92b-101596923a8d",
   "metadata": {},
   "outputs": [],
   "source": [
    "def sumNum(a,b):\n",
    "    print(a + b);\n",
    "sumNum(1,2);"
   ]
  },
  {
   "cell_type": "code",
   "execution_count": null,
   "id": "871771cf-b0f9-456c-8bc8-8d2b4a2bb5dd",
   "metadata": {},
   "outputs": [],
   "source": [
    "def printName(name):\n",
    "    print('my name is '  + name);\n",
    "\n",
    "printName('Shreepad');"
   ]
  },
  {
   "cell_type": "code",
   "execution_count": null,
   "id": "ba5e931c-b89f-4b0c-ac8e-dfbc9328af34",
   "metadata": {},
   "outputs": [],
   "source": [
    "def sumOfSquares(x,y):\n",
    "    sqr1 = x * x;\n",
    "    sqr2 = y * y;\n",
    "    sum1 = sqr1 + sqr2;\n",
    "    print(sum1);\n",
    "    \n",
    "sumOfSquares(19,15);\n"
   ]
  },
  {
   "cell_type": "code",
   "execution_count": null,
   "id": "79420552-da03-427d-b585-35f0e9b7d2be",
   "metadata": {},
   "outputs": [],
   "source": [
    "import calendar\n",
    "month = calendar.month(2019,2)\n",
    "print(month);"
   ]
  },
  {
   "cell_type": "code",
   "execution_count": null,
   "id": "a20d209a-6539-4d52-b93f-f0d5382cacba",
   "metadata": {},
   "outputs": [],
   "source": [
    "import random\n",
    "random = random.randint(1,99);\n",
    "print(random);"
   ]
  },
  {
   "cell_type": "code",
   "execution_count": null,
   "id": "fea133ef-b559-463c-8ad8-ac4c0342640d",
   "metadata": {},
   "outputs": [],
   "source": [
    "listA = [1,2,3,4]\n",
    "print(listA[1]);"
   ]
  },
  {
   "cell_type": "code",
   "execution_count": null,
   "id": "7449b15d-9dc4-4914-9ded-cf17e29533db",
   "metadata": {},
   "outputs": [],
   "source": [
    "print(listA);"
   ]
  },
  {
   "cell_type": "code",
   "execution_count": null,
   "id": "ee504707-1934-4529-b598-66cc14954581",
   "metadata": {},
   "outputs": [],
   "source": [
    "listB = [True, 'Hi', 1 , 11.3]\n",
    "print(listB[1]);"
   ]
  },
  {
   "cell_type": "code",
   "execution_count": 10,
   "id": "662883d3-0466-422a-90e2-854cd41bcd68",
   "metadata": {},
   "outputs": [
    {
     "name": "stdin",
     "output_type": "stream",
     "text": [
      "Is it raining outside?? No\n"
     ]
    }
   ],
   "source": [
    "isRaining = input(\"Is it raining outside??\");\n",
    "if isRaining == \"yes\" :\n",
    "    print('take an umbrella with you');"
   ]
  },
  {
   "cell_type": "code",
   "execution_count": 16,
   "id": "9648ad32-b129-4309-ab1c-80b729712710",
   "metadata": {},
   "outputs": [
    {
     "name": "stdin",
     "output_type": "stream",
     "text": [
      "enter the number 12\n"
     ]
    },
    {
     "name": "stdout",
     "output_type": "stream",
     "text": [
      "Num is greater than 10\n"
     ]
    }
   ],
   "source": [
    "num = int(input('enter the number'));\n",
    "if num > 10 : \n",
    "    print('Num is greater than 10');"
   ]
  },
  {
   "cell_type": "code",
   "execution_count": 22,
   "id": "3b89bca2-fd4b-4d41-880d-919225b6f8f3",
   "metadata": {},
   "outputs": [
    {
     "name": "stdout",
     "output_type": "stream",
     "text": [
      "Program to check greatest number\n",
      "Y is the greatest number\n",
      "None\n"
     ]
    }
   ],
   "source": [
    "print('Program to check greatest number');\n",
    "\n",
    "def maxnum(x, y) :\n",
    "    if (x > y) :\n",
    "        print ('X is the greatest number');\n",
    "    else :\n",
    "        print ('Y is the greatest number');\n",
    "\n",
    "result = maxnum(2,5);\n",
    "print(result);"
   ]
  },
  {
   "cell_type": "code",
   "execution_count": 23,
   "id": "49b0bfe0-e23c-407e-8fb4-890803331d42",
   "metadata": {},
   "outputs": [
    {
     "name": "stdout",
     "output_type": "stream",
     "text": [
      "X is the greatest number\n",
      "None\n"
     ]
    }
   ],
   "source": [
    "result = maxnum(5,-10);\n",
    "print(result);"
   ]
  },
  {
   "cell_type": "code",
   "execution_count": 5,
   "id": "b11dd440-f651-4b09-a1e2-80d6072221b3",
   "metadata": {},
   "outputs": [
    {
     "name": "stdin",
     "output_type": "stream",
     "text": [
      "enter a number here: 100\n"
     ]
    },
    {
     "name": "stdout",
     "output_type": "stream",
     "text": [
      "number is greater than 10\n"
     ]
    }
   ],
   "source": [
    "x = input(\"enter a number here:\")\n",
    "x = float(x)\n",
    "if x < 2 : \n",
    "    print(\"number is less than 2.:\")\n",
    "elif x < 5 : \n",
    "    print(\"number is less than 5\")\n",
    "elif x < 10 : \n",
    "    print(\"number is less than 10\")\n",
    "else: print(\"number is greater than 10\")"
   ]
  },
  {
   "cell_type": "code",
   "execution_count": 2,
   "id": "5aa6a182-317d-4d0a-a387-99005804da3e",
   "metadata": {},
   "outputs": [
    {
     "name": "stdout",
     "output_type": "stream",
     "text": [
      "vowelcount for this word is: 7\n",
      "length of this word is: 14\n",
      "s\n",
      "e\n",
      "r\n",
      "e\n",
      "n\n",
      "d\n",
      "e\n",
      "p\n",
      "i\n",
      "t\n",
      "i\n",
      "o\n",
      "u\n",
      "s\n"
     ]
    }
   ],
   "source": [
    "word = \"serendepitious\"\n",
    "vowels = ['a','e','i','o','u'];\n",
    "vowelcount = 0\n",
    "\n",
    "for char in word :\n",
    "    if char in vowels:\n",
    "        vowelcount += 1\n",
    "\n",
    "print ('vowelcount for this word is:', vowelcount)\n",
    "\n",
    "length = len(word)\n",
    "print('length of this word is:', length);\n",
    "\n",
    "i = 0\n",
    "while length > i:\n",
    "    print(word[i])\n",
    "    i += 1 "
   ]
  },
  {
   "cell_type": "code",
   "execution_count": 6,
   "id": "353c7ff8-1fa5-42f2-a2cf-ce8fbe1f3c2f",
   "metadata": {},
   "outputs": [
    {
     "name": "stdout",
     "output_type": "stream",
     "text": [
      "0\n",
      "1\n",
      "2\n",
      "3\n",
      "4\n",
      "5\n",
      "6\n",
      "7\n",
      "8\n",
      "9\n"
     ]
    }
   ],
   "source": [
    "count = 0\n",
    "while count < 10:\n",
    "    print (count)\n",
    "    count += 1"
   ]
  },
  {
   "cell_type": "code",
   "execution_count": 16,
   "id": "4676dd2f-fbc7-4fe0-bf1b-673f80d7876b",
   "metadata": {},
   "outputs": [
    {
     "name": "stdout",
     "output_type": "stream",
     "text": [
      "Factorial of 1 is :  1\n"
     ]
    },
    {
     "data": {
      "text/plain": [
       "120"
      ]
     },
     "execution_count": 16,
     "metadata": {},
     "output_type": "execute_result"
    }
   ],
   "source": [
    "# Factorial\n",
    "def factorial(n):\n",
    "    if(n == 1):\n",
    "        print('Factorial of', n ,'is : ', 1);\n",
    "        return 1\n",
    "    else:\n",
    "        return n * factorial(n - 1)\n",
    "\n",
    "factorial(5)"
   ]
  },
  {
   "cell_type": "code",
   "execution_count": 25,
   "id": "16a5f0b1-fef7-4839-a922-ab42078fe163",
   "metadata": {},
   "outputs": [
    {
     "name": "stdout",
     "output_type": "stream",
     "text": [
      "1\n"
     ]
    },
    {
     "data": {
      "text/plain": [
       "11"
      ]
     },
     "execution_count": 25,
     "metadata": {},
     "output_type": "execute_result"
    }
   ],
   "source": [
    "#fibonacci\n",
    "def fib(n):\n",
    "    if (n == 1) :\n",
    "        print(0)\n",
    "        return 0\n",
    "    elif(n ==2) :\n",
    "        print(1)\n",
    "        return 1\n",
    "    else: return fib(n-1) + (n-2)\n",
    "fib(6)"
   ]
  },
  {
   "cell_type": "code",
   "execution_count": 35,
   "id": "2e531ccf-bec1-4b83-8cea-8f420b65559a",
   "metadata": {},
   "outputs": [
    {
     "name": "stdout",
     "output_type": "stream",
     "text": [
      "MADAM 5\n",
      "M\n",
      "A\n",
      "D\n",
      "A\n",
      "M\n"
     ]
    }
   ],
   "source": [
    "word = 'MADAM'\n",
    "def palin(str):\n",
    "    leng = len(str)\n",
    "    print(word, leng)\n",
    "\n",
    "    while leng > 0 :\n",
    "        print(word[leng-1])\n",
    "        leng -= 1\n",
    "\n",
    "palin(word)"
   ]
  },
  {
   "cell_type": "code",
   "execution_count": 39,
   "id": "3acdd129-f439-4f5f-8ff7-9a10e640a2a4",
   "metadata": {},
   "outputs": [],
   "source": [
    "class sayHello():\n",
    "    def __init__(self, whom):\n",
    "        self.whom = whom\n",
    "    def greet(self):\n",
    "        print('Hello')"
   ]
  },
  {
   "cell_type": "code",
   "execution_count": 42,
   "id": "4d4a9bc9-4521-42dd-a3d5-6c38114fc9f9",
   "metadata": {},
   "outputs": [
    {
     "name": "stdout",
     "output_type": "stream",
     "text": [
      "Hello Shreepad\n"
     ]
    }
   ],
   "source": [
    "hello = sayHello('Shreepad')"
   ]
  },
  {
   "cell_type": "code",
   "execution_count": 43,
   "id": "fd32dc86-7922-4a43-bda6-0e1f77dcfe66",
   "metadata": {},
   "outputs": [
    {
     "ename": "AttributeError",
     "evalue": "'sayHello' object has no attribute 'greet'",
     "output_type": "error",
     "traceback": [
      "\u001b[31m---------------------------------------------------------------------------\u001b[39m",
      "\u001b[31mAttributeError\u001b[39m                            Traceback (most recent call last)",
      "\u001b[36mCell\u001b[39m\u001b[36m \u001b[39m\u001b[32mIn[43]\u001b[39m\u001b[32m, line 1\u001b[39m\n\u001b[32m----> \u001b[39m\u001b[32m1\u001b[39m \u001b[43mhello\u001b[49m\u001b[43m.\u001b[49m\u001b[43mgreet\u001b[49m()\n",
      "\u001b[31mAttributeError\u001b[39m: 'sayHello' object has no attribute 'greet'"
     ]
    }
   ],
   "source": [
    "hello.greet()"
   ]
  },
  {
   "cell_type": "code",
   "execution_count": null,
   "id": "2c36cc1b-7eee-4c97-969b-a3f71f643690",
   "metadata": {},
   "outputs": [],
   "source": []
  }
 ],
 "metadata": {
  "kernelspec": {
   "display_name": "Python 3 (ipykernel)",
   "language": "python",
   "name": "python3"
  },
  "language_info": {
   "codemirror_mode": {
    "name": "ipython",
    "version": 3
   },
   "file_extension": ".py",
   "mimetype": "text/x-python",
   "name": "python",
   "nbconvert_exporter": "python",
   "pygments_lexer": "ipython3",
   "version": "3.13.5"
  }
 },
 "nbformat": 4,
 "nbformat_minor": 5
}
